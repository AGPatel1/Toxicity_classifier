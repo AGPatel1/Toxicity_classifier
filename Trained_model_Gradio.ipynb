{
  "cells": [
    {
      "cell_type": "code",
      "source": [
        "import tensorflow as tf\n",
        "import numpy as np\n",
        "import pandas as pd\n",
        "import os\n",
        "# ! gdown 1IpRKfTLu9RILOlwtEsD-BbPhxaU6O8lS\n",
        "! gdown 1uPMIFDrQ07rqyv6NOUwcSFVpBkZJ5FVG"
      ],
      "metadata": {
        "colab": {
          "base_uri": "https://localhost:8080/"
        },
        "id": "2cm6iMC2zYeg",
        "outputId": "5fe931b0-5015-40bd-f916-1203bfa1f95c"
      },
      "execution_count": null,
      "outputs": [
        {
          "output_type": "stream",
          "name": "stdout",
          "text": [
            "Downloading...\n",
            "From: https://drive.google.com/uc?id=1uPMIFDrQ07rqyv6NOUwcSFVpBkZJ5FVG\n",
            "To: /content/Toxic_text_classifier_v2.keras\n",
            "100% 156M/156M [00:06<00:00, 24.1MB/s]\n"
          ]
        }
      ]
    },
    {
      "cell_type": "code",
      "source": [
        "model = tf.keras.models.load_model('Toxic_text_classifier_v2.keras')\n",
        "df = pd.read_csv('https://raw.githubusercontent.com/vzhou842/profanity-check/master/profanity_check/data/clean_data.csv')"
      ],
      "metadata": {
        "id": "zJW-3IQN3eOK"
      },
      "execution_count": null,
      "outputs": []
    },
    {
      "cell_type": "code",
      "source": [
        "df = df[['text', 'is_offensive']]\n",
        "df = df.rename(columns = {'is_offensive' : 'Is_Toxic'})\n",
        "df = df.dropna()"
      ],
      "metadata": {
        "id": "W4wqzn6nNrBe"
      },
      "execution_count": null,
      "outputs": []
    },
    {
      "cell_type": "code",
      "source": [
        "X = df['text']\n",
        "y = df[df.columns[1:]].values"
      ],
      "metadata": {
        "id": "GkizWhXH3ozE"
      },
      "execution_count": null,
      "outputs": []
    },
    {
      "cell_type": "code",
      "source": [
        "from tensorflow.keras.layers import TextVectorization\n",
        "vectorizer = TextVectorization(max_tokens = 100000,\n",
        "                               output_mode='int')\n",
        "vectorizer.adapt(X.values)"
      ],
      "metadata": {
        "id": "EYoE662309sp"
      },
      "execution_count": null,
      "outputs": []
    },
    {
      "cell_type": "code",
      "source": [
        "input_text = vectorizer('in my opinion,you suck delete your instagram')\n",
        "res = model.predict(np.array([input_text]))\n",
        "res"
      ],
      "metadata": {
        "colab": {
          "base_uri": "https://localhost:8080/"
        },
        "id": "41Kc2n9X0awn",
        "outputId": "6ecaa258-38d8-4525-8ecd-8312d85fba54"
      },
      "execution_count": null,
      "outputs": [
        {
          "output_type": "stream",
          "name": "stdout",
          "text": [
            "1/1 [==============================] - 1s 834ms/step\n"
          ]
        },
        {
          "output_type": "execute_result",
          "data": {
            "text/plain": [
              "array([[0.9993932]], dtype=float32)"
            ]
          },
          "metadata": {},
          "execution_count": 12
        }
      ]
    },
    {
      "cell_type": "code",
      "source": [
        "!pip install -q gradio"
      ],
      "metadata": {
        "id": "k4S3hMYR6s-2"
      },
      "execution_count": null,
      "outputs": []
    },
    {
      "cell_type": "code",
      "source": [
        "import gradio as gr\n",
        "def score_comment(comment):\n",
        "    vectorized_comment = vectorizer([comment])\n",
        "    results = model.predict(vectorized_comment)\n",
        "\n",
        "    text = ''\n",
        "    for idx, col in enumerate(df.columns[1:]):\n",
        "        text += '{}: {}\\n'.format(col, results[0][idx]>0.5)\n",
        "\n",
        "    return text\n",
        "interface = gr.Interface(fn=score_comment, title = \"Toxic Text Classifier\",\n",
        "                         inputs=gr.components.Textbox(lines=2, placeholder='Comment to score'),\n",
        "                        outputs='text')\n",
        "interface.launch(share=True)"
      ],
      "metadata": {
        "id": "Ik4Y48TF6qTH"
      },
      "execution_count": null,
      "outputs": []
    }
  ],
  "metadata": {
    "colab": {
      "provenance": []
    },
    "kernelspec": {
      "display_name": "Python 3",
      "name": "python3"
    }
  },
  "nbformat": 4,
  "nbformat_minor": 0
}